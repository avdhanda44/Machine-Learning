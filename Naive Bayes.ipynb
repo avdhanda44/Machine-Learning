{
 "cells": [
  {
   "cell_type": "markdown",
   "id": "17ef1e00",
   "metadata": {},
   "source": [
    "<div style=\"background-color: #F0FFF0; padding: 10px; border: 3px solid #006400; border-radius: 10px; box-shadow: 0 0 10px rgba(0, 0, 0, 0.2);\">\n",
    "  <h1 style=\"color: #006400; text-align: center; font-size: 36px; font-family: 'Arial', sans-serif;\">Naive Bayes</h1>\n",
    "  \n",
    "  <p>\n",
    "    Naive Bayes is a classification algorithm based on Bayes' theorem, which is a probabilistic framework for making predictions. It is called \"naive\" because it assumes that the features are independent of each other, which is a simplifying assumption.\n",
    "  </p>\n",
    "  \n",
    "  <h2 style=\"color: #006400;\">Bayes' Theorem</h2>\n",
    "  \n",
    "  <p>\n",
    "    <code>P(A|B) = (P(B|A) * P(A)) / P(B)</code>\n",
    "  </p>\n",
    "  \n",
    "  <p>\n",
    "    where:<br>\n",
    "    <i>P(A|B) is the posterior probability of event A given evidence B.</i><br>\n",
    "    <i>P(B|A) is the likelihood, the probability of observing evidence B given event A.</i><br>\n",
    "    <i>P(A) is the prior probability of event A.</i><br>\n",
    "    <i>P(B) is the prior probability of evidence B.</i>\n",
    "  </p>\n",
    "  \n",
    "  <h2 style=\"color: #006400;\">Naive Bayes Classifier</h2>\n",
    "  \n",
    "  <p>\n",
    "    In the context of classification, Naive Bayes assumes that the presence of a particular feature in a class is independent of the presence of other features. Based on this assumption, the Naive Bayes classifier calculates the probability of a particular class given the observed features.\n",
    "  </p>\n",
    "  \n",
    "  <h2 style=\"color: #006400;\">Training</h2>\n",
    "  \n",
    "  <p>\n",
    "    During the training phase, Naive Bayes estimates the class probabilities and feature probabilities based on the labeled training data. It calculates the prior probabilities <i>P(C)</i> for each class <i>C</i> and the likelihood probabilities <i>P(X|C)</i> for each feature <i>X</i> given each class <i>C</i>.\n",
    "  </p>\n",
    "  \n",
    "  <h2 style=\"color: #006400;\">Prediction</h2>\n",
    "  \n",
    "  <p>\n",
    "    To make predictions, the Naive Bayes classifier uses Bayes' theorem to calculate the posterior probabilities of each class given the observed features. It selects the class with the highest posterior probability as the predicted class.\n",
    "  </p>\n",
    "  \n",
    "  <h2 style=\"color: #006400;\">Types of Naive Bayes Classifiers</h2>\n",
    "  \n",
    "  <p>\n",
    "    There are different variants of Naive Bayes classifiers, including:\n",
    "  </p>\n",
    "  \n",
    "  <ul>\n",
    "    <li><strong>Gaussian Naive Bayes:</strong> Assumes that continuous features follow a Gaussian distribution.</li>\n",
    "    <li><strong>Multinomial Naive Bayes:</strong> Suitable for discrete features, such as word counts in text classification.</li>\n",
    "    <li><strong>Bernoulli Naive Bayes:</strong> Suitable for binary features, where each feature represents the presence or absence of a particular characteristic.</li>\n",
    "  </ul>\n",
    "  \n",
    "  <p>\n",
    "    Naive Bayes is known for its simplicity, speed, and ability to handle high-dimensional data. It performs well in many real-world applications, especially in text classification, spam filtering, and sentiment analysis, where the independence assumption is reasonable or provides acceptable results.\n",
    "  </p>\n",
    "</div>\n"
   ]
  },
  {
   "cell_type": "code",
   "execution_count": 1,
   "id": "30119698",
   "metadata": {},
   "outputs": [],
   "source": [
    "from sklearn.datasets import load_iris\n",
    "from sklearn.model_selection import train_test_split\n",
    "from sklearn.naive_bayes import GaussianNB\n",
    "from sklearn.metrics import accuracy_score"
   ]
  },
  {
   "cell_type": "code",
   "execution_count": 2,
   "id": "9e213071",
   "metadata": {},
   "outputs": [],
   "source": [
    "# Load the Iris dataset\n",
    "iris = load_iris()"
   ]
  },
  {
   "cell_type": "code",
   "execution_count": 3,
   "id": "fe28ac56",
   "metadata": {},
   "outputs": [],
   "source": [
    "# Split the dataset into features (X) and target variable (y)\n",
    "X = iris.data\n",
    "y = iris.target"
   ]
  },
  {
   "cell_type": "code",
   "execution_count": 4,
   "id": "be382f23",
   "metadata": {},
   "outputs": [],
   "source": [
    "# Split the data into training and testing sets\n",
    "X_train, X_test, y_train, y_test = train_test_split(X, y, test_size=0.2, random_state=42)"
   ]
  },
  {
   "cell_type": "code",
   "execution_count": 5,
   "id": "799ba332",
   "metadata": {},
   "outputs": [],
   "source": [
    "# Create a Naive Bayes classifier (GaussianNB)\n",
    "classifier = GaussianNB()"
   ]
  },
  {
   "cell_type": "code",
   "execution_count": 6,
   "id": "51f357bb",
   "metadata": {},
   "outputs": [
    {
     "data": {
      "text/plain": [
       "GaussianNB()"
      ]
     },
     "execution_count": 6,
     "metadata": {},
     "output_type": "execute_result"
    }
   ],
   "source": [
    "# Train the classifier on the training data\n",
    "classifier.fit(X_train, y_train)"
   ]
  },
  {
   "cell_type": "code",
   "execution_count": 7,
   "id": "32621f82",
   "metadata": {},
   "outputs": [],
   "source": [
    "# Make predictions on the test data\n",
    "y_pred = classifier.predict(X_test)"
   ]
  },
  {
   "cell_type": "code",
   "execution_count": 8,
   "id": "0b8873f4",
   "metadata": {},
   "outputs": [
    {
     "name": "stdout",
     "output_type": "stream",
     "text": [
      "Accuracy: 1.0\n"
     ]
    }
   ],
   "source": [
    "# Calculate the accuracy of the classifier\n",
    "accuracy = accuracy_score(y_test, y_pred)\n",
    "print(\"Accuracy:\", accuracy)"
   ]
  }
 ],
 "metadata": {
  "kernelspec": {
   "display_name": "Python 3 (ipykernel)",
   "language": "python",
   "name": "python3"
  },
  "language_info": {
   "codemirror_mode": {
    "name": "ipython",
    "version": 3
   },
   "file_extension": ".py",
   "mimetype": "text/x-python",
   "name": "python",
   "nbconvert_exporter": "python",
   "pygments_lexer": "ipython3",
   "version": "3.9.13"
  }
 },
 "nbformat": 4,
 "nbformat_minor": 5
}
