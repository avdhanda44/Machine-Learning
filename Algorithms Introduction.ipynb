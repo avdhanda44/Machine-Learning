{
 "cells": [
  {
   "cell_type": "markdown",
   "id": "c66d3f0f",
   "metadata": {},
   "source": [
    "<div style=\"background-color: #E6E6FA; padding: 10px;\">\n",
    "<div style=\"background-color: #E6E6FA; padding: 20px; border: 2px solid #9370DB; border-radius: 10px; box-shadow: 0 0 10px rgba(0, 0, 0, 0.2);\">\n",
    "\n",
    "<h2 style=\"color: #9370DB; text-align: center; font-size: 28px; font-family: 'Arial', sans-serif;\">Listing some commonly used algorithms in each category:</h2>\n",
    "\n",
    "| Supervised Learning       | Unsupervised Learning     |\n",
    "|---------------------------|---------------------------|\n",
    "| Linear Regression         | K-Means Clustering        |\n",
    "| Logistic Regression       | Hierarchical Clustering    |\n",
    "| Decision Trees            | DBSCAN                    |\n",
    "| Random Forests            | Gaussian Mixture Models    |\n",
    "| Support Vector Machines   | Principal Component Analysis (PCA)  |\n",
    "| Naive Bayes               | Association Rule Learning  |\n",
    "| K-Nearest Neighbors (KNN) | Self-Organizing Maps (SOM) |\n",
    "| Neural Networks           | t-SNE                     |\n",
    "| Gradient Boosting         | Autoencoders              |\n",
    "\n",
    "Please note that this is not an exhaustive list, as there are many more algorithms for both supervised and unsupervised learning.\n",
    "\n",
    "</div>\n"
   ]
  },
  {
   "cell_type": "markdown",
   "id": "29627660",
   "metadata": {},
   "source": [
    "<div style=\"background-color: #FFFFE0; padding: 20px; border: 2px solid #FFD700; border-radius: 10px; box-shadow: 0 0 10px rgba(0, 0, 0, 0.2);\">\n",
    "\n",
    "<h1 style=\"color: #FFD700; text-align: center; font-size: 32px; font-family: 'Arial', sans-serif;\">Supervised Learning</h1>\n",
    "\n",
    "<p style=\"text-align: justify; font-size: 16px; line-height: 1.6;\">\n",
    "Supervised learning is a machine learning approach where an algorithm learns from labeled training data to make predictions or classify new, unseen data. In this type of learning, the input data is accompanied by corresponding output labels, and the algorithm's task is to learn the mapping or relationship between the inputs and the desired outputs.\n",
    "\n",
    "The process begins with a training dataset that consists of input features and their corresponding target labels. The algorithm analyzes the training data and builds a model that captures the patterns and relationships between the input and output variables. The model can then be used to predict the output for new, unseen data points.\n",
    "\n",
    "Supervised learning can be further categorized into <strong>regression</strong> and <strong>classification</strong> tasks. In regression, the goal is to predict a continuous numerical value, such as predicting house prices based on features like location, size, and number of rooms. In classification, the objective is to assign a category or class label to each input, such as classifying emails as spam or non-spam based on their content.\n",
    "\n",
    "To build the model, supervised learning algorithms employ various techniques such as linear regression, logistic regression, decision trees, random forests, support vector machines, neural networks, and more. The choice of algorithm depends on the nature of the data, the complexity of the problem, and the desired accuracy or performance metrics.\n",
    "\n",
    "Supervised learning is widely used in various applications, including image and speech recognition, natural language processing, sentiment analysis, fraud detection, recommendation systems, and many more. Its ability to learn from labeled data and make accurate predictions makes it a powerful tool in the field of machine learning.\n",
    "</p>\n",
    "\n",
    "</div>\n"
   ]
  },
  {
   "cell_type": "markdown",
   "id": "5c639dec",
   "metadata": {},
   "source": [
    "<div style=\"background-color: #E6E6FA; padding: 10px;\">\n",
    "<div style=\"background-color: #E6E6FA; padding: 20px; border: 2px solid #9370DB; border-radius: 10px; box-shadow: 0 0 10px rgba(0, 0, 0, 0.2);\">\n",
    "\n",
    "<h2 style=\"color: #9370DB; text-align: center; font-size: 28px; font-family: 'Arial', sans-serif;\">Classification Algorithms</h2>\n",
    "\n",
    "    \n",
    "Classification Algorithms   | Regression Algorithms\n",
    "--------------------------- | ---------------------\n",
    "Logistic Regression         | Linear Regression\n",
    "Naive Bayes                 | Ridge Regression\n",
    "Decision Trees              | Lasso Regression\n",
    "Random Forest               | Elastic Net Regression\n",
    "Support Vector Machines (SVM)| Polynomial Regression\n",
    "K-Nearest Neighbors (KNN)    | Support Vector Regression (SVR)\n",
    "Neural Networks             | Decision Trees\n",
    "Gradient Boosting Algorithms| Random Forest\n",
    "Linear Discriminant Analysis (LDA) | Gradient Boosting Algorithms\n",
    "Quadratic Discriminant Analysis (QDA) | Neural Networks\n",
    "</div>"
   ]
  }
 ],
 "metadata": {
  "kernelspec": {
   "display_name": "Python 3 (ipykernel)",
   "language": "python",
   "name": "python3"
  },
  "language_info": {
   "codemirror_mode": {
    "name": "ipython",
    "version": 3
   },
   "file_extension": ".py",
   "mimetype": "text/x-python",
   "name": "python",
   "nbconvert_exporter": "python",
   "pygments_lexer": "ipython3",
   "version": "3.9.13"
  }
 },
 "nbformat": 4,
 "nbformat_minor": 5
}
